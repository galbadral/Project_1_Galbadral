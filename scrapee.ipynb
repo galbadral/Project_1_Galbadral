{
 "cells": [
  {
   "cell_type": "code",
   "execution_count": 1,
   "id": "f572d637-7c59-4c68-b8e0-44001ef19567",
   "metadata": {},
   "outputs": [],
   "source": [
    "import pandas as pd\n",
    "import requests\n",
    "from bs4 import BeautifulSoup, SoupStrainer\n",
    "from urllib.request import urlopen"
   ]
  },
  {
   "cell_type": "code",
   "execution_count": 2,
   "id": "f53fe618-c46b-46be-8cc9-7f387d255020",
   "metadata": {},
   "outputs": [],
   "source": [
    "urllinks=[]"
   ]
  },
  {
   "cell_type": "code",
   "execution_count": 3,
   "id": "a7e19072-c58f-4d4a-af6e-ce2aef27c5cd",
   "metadata": {},
   "outputs": [],
   "source": [
    "for i in range(1,21):\n",
    "    urllinks.append(\"https://www.transfermarkt.com/spieler-statistik/wertvollstespieler/marktwertetop?land_id=0&ausrichtung=alle&spielerposition_id=alle&altersklasse=alle&jahrgang=0&kontinent_id=0&plus=1&page=\"+str(i))"
   ]
  },
  {
   "cell_type": "code",
   "execution_count": 8,
   "id": "2f98334e-78b8-464f-9e30-efd7435c356c",
   "metadata": {},
   "outputs": [],
   "source": [
    "data={}\n",
    "names=[]\n",
    "prices=[]\n",
    "ranks=[]\n",
    "ages=[]\n",
    "countries=[]\n",
    "clubs=[]\n",
    "current_matches=[]\n",
    "goals=[]\n",
    "own_goals=[]\n",
    "assists=[]\n",
    "yellow_cards=[]\n",
    "second_yellow_cards=[]\n",
    "red_cards=[]\n",
    "sub_on=[]\n",
    "sub_off=[]"
   ]
  },
  {
   "cell_type": "code",
   "execution_count": 9,
   "id": "32cf09c0-09ce-4ac0-a0fe-768d6f5e04c7",
   "metadata": {},
   "outputs": [],
   "source": [
    "for link in range(0,len(urllinks)):\n",
    "    headers={'User-Agent': 'Custom'}\n",
    "    response = requests.get(urllinks[link],  timeout=15, headers=headers)\n",
    "    soup = BeautifulSoup(response.content)\n",
    "    wrapper = soup.find(\"table\", {\"class\":\"items\"})\n",
    "    players=wrapper.find_all(\"td\", {\"class\":\"hauptlink\"})\n",
    "    i=0\n",
    "    for player in players:\n",
    "        name = player.find(\"a\").next_element.text\n",
    "        if i%2==0:\n",
    "            names += [name]\n",
    "        else:\n",
    "            prices += [name]  \n",
    "        i=i+1\n",
    "        \n",
    "    players2=wrapper.find_all(\"td\", {\"class\":\"zentriert\"})\n",
    "    i=0\n",
    "    for player in players2:\n",
    "        i=i+1\n",
    "        num = player.text\n",
    "        if i%13 == 1:\n",
    "            ranks += [num] \n",
    "        elif i%13 == 2:\n",
    "            ages += [num]\n",
    "        elif i%13 == 3:\n",
    "            country=player.find(\"img\")['title']\n",
    "            countries += [country]\n",
    "        elif i%13 == 4:\n",
    "            club=player.find(\"img\")['title']\n",
    "            clubs += [club]\n",
    "        elif i%13 == 5:\n",
    "            current_matches += [num]\n",
    "        elif i%13 == 6:\n",
    "            goals += [num] \n",
    "        elif i%13 == 7:\n",
    "            own_goals += [num] \n",
    "        elif i%13 == 8:\n",
    "            assists += [num] \n",
    "        elif i%13 == 9:\n",
    "            yellow_cards += [num]\n",
    "        elif i%13 == 10:\n",
    "            second_yellow_cards += [num]\n",
    "        elif i%13 == 11:\n",
    "            red_cards += [num] \n",
    "        elif i%13 == 12:\n",
    "            sub_on += [num]\n",
    "        elif i%13 == 0:\n",
    "            sub_off += [num] \n",
    "        "
   ]
  },
  {
   "cell_type": "code",
   "execution_count": 10,
   "id": "45a37e88-4b14-48ca-97e6-8966d339073d",
   "metadata": {},
   "outputs": [],
   "source": [
    "data['names']=names\n",
    "data['prices']=prices\n",
    "data['ranks']=ranks\n",
    "data['ages']=ages\n",
    "data['countries']=countries\n",
    "data['clubs']=clubs\n",
    "data['current_matches']=current_matches\n",
    "data['goals']=goals\n",
    "data['own_goals']=own_goals\n",
    "data['assists']=assists\n",
    "data['yellow_cards']=yellow_cards\n",
    "data['second_yellow_cards']=second_yellow_cards\n",
    "data['red_cards']=red_cards\n",
    "data['sub_on']=sub_on\n",
    "data['sub_off']=sub_off"
   ]
  },
  {
   "cell_type": "code",
   "execution_count": 11,
   "id": "b15e964e-ef7c-4aec-a49d-1731b8808e26",
   "metadata": {},
   "outputs": [],
   "source": [
    "df=pd.DataFrame(data)"
   ]
  },
  {
   "cell_type": "code",
   "execution_count": 13,
   "id": "31d41ab3-fb7f-4d8c-85ca-5e34a715cd20",
   "metadata": {},
   "outputs": [],
   "source": [
    "df.to_csv('top_players_stats.csv', index=False)"
   ]
  },
  {
   "cell_type": "code",
   "execution_count": null,
   "id": "0743ebe8-5a00-44bd-bd03-ea4995535aef",
   "metadata": {},
   "outputs": [],
   "source": []
  }
 ],
 "metadata": {
  "kernelspec": {
   "display_name": "Python 3 (ipykernel)",
   "language": "python",
   "name": "python3"
  },
  "language_info": {
   "codemirror_mode": {
    "name": "ipython",
    "version": 3
   },
   "file_extension": ".py",
   "mimetype": "text/x-python",
   "name": "python",
   "nbconvert_exporter": "python",
   "pygments_lexer": "ipython3",
   "version": "3.8.13"
  }
 },
 "nbformat": 4,
 "nbformat_minor": 5
}
