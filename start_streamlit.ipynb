{
 "cells": [
  {
   "cell_type": "code",
   "execution_count": null,
   "id": "4bde0f16-a965-48ff-ab77-e5b4418c8b98",
   "metadata": {},
   "outputs": [],
   "source": [
    "!streamlit run player_price_app.py"
   ]
  },
  {
   "cell_type": "code",
   "execution_count": null,
   "id": "8c05dd3c-2569-4515-bd51-bc2ac21465e9",
   "metadata": {},
   "outputs": [],
   "source": []
  }
 ],
 "metadata": {
  "kernelspec": {
   "display_name": "Python 3 (ipykernel)",
   "language": "python",
   "name": "python3"
  },
  "language_info": {
   "codemirror_mode": {
    "name": "ipython",
    "version": 3
   },
   "file_extension": ".py",
   "mimetype": "text/x-python",
   "name": "python",
   "nbconvert_exporter": "python",
   "pygments_lexer": "ipython3",
   "version": "3.8.13"
  }
 },
 "nbformat": 4,
 "nbformat_minor": 5
}
