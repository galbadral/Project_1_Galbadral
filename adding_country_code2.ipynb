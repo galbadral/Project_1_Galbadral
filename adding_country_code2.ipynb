{
 "cells": [
  {
   "cell_type": "code",
   "execution_count": 1,
   "id": "585c38c0-f2d5-41d5-9cdb-f7325a0ee4c5",
   "metadata": {},
   "outputs": [],
   "source": [
    "import numpy as np\n",
    "import pandas as pd"
   ]
  },
  {
   "cell_type": "code",
   "execution_count": 25,
   "id": "021dac31-796f-4ab2-adb0-81506a0308d8",
   "metadata": {},
   "outputs": [],
   "source": [
    "df = pd.read_csv(\"country_codes.csv\")"
   ]
  },
  {
   "cell_type": "code",
   "execution_count": 26,
   "id": "d23d1a7f-9824-41e7-adb7-1af422e3e243",
   "metadata": {},
   "outputs": [
    {
     "data": {
      "text/html": [
       "<div>\n",
       "<style scoped>\n",
       "    .dataframe tbody tr th:only-of-type {\n",
       "        vertical-align: middle;\n",
       "    }\n",
       "\n",
       "    .dataframe tbody tr th {\n",
       "        vertical-align: top;\n",
       "    }\n",
       "\n",
       "    .dataframe thead th {\n",
       "        text-align: right;\n",
       "    }\n",
       "</style>\n",
       "<table border=\"1\" class=\"dataframe\">\n",
       "  <thead>\n",
       "    <tr style=\"text-align: right;\">\n",
       "      <th></th>\n",
       "      <th>Name</th>\n",
       "      <th>Code</th>\n",
       "    </tr>\n",
       "  </thead>\n",
       "  <tbody>\n",
       "    <tr>\n",
       "      <th>0</th>\n",
       "      <td>Afghanistan</td>\n",
       "      <td>AF</td>\n",
       "    </tr>\n",
       "    <tr>\n",
       "      <th>1</th>\n",
       "      <td>Ã…land Islands</td>\n",
       "      <td>AX</td>\n",
       "    </tr>\n",
       "    <tr>\n",
       "      <th>2</th>\n",
       "      <td>Albania</td>\n",
       "      <td>AL</td>\n",
       "    </tr>\n",
       "    <tr>\n",
       "      <th>3</th>\n",
       "      <td>Algeria</td>\n",
       "      <td>DZ</td>\n",
       "    </tr>\n",
       "    <tr>\n",
       "      <th>4</th>\n",
       "      <td>American Samoa</td>\n",
       "      <td>AS</td>\n",
       "    </tr>\n",
       "    <tr>\n",
       "      <th>...</th>\n",
       "      <td>...</td>\n",
       "      <td>...</td>\n",
       "    </tr>\n",
       "    <tr>\n",
       "      <th>244</th>\n",
       "      <td>Wallis and Futuna</td>\n",
       "      <td>WF</td>\n",
       "    </tr>\n",
       "    <tr>\n",
       "      <th>245</th>\n",
       "      <td>Western Sahara</td>\n",
       "      <td>EH</td>\n",
       "    </tr>\n",
       "    <tr>\n",
       "      <th>246</th>\n",
       "      <td>Yemen</td>\n",
       "      <td>YE</td>\n",
       "    </tr>\n",
       "    <tr>\n",
       "      <th>247</th>\n",
       "      <td>Zambia</td>\n",
       "      <td>ZM</td>\n",
       "    </tr>\n",
       "    <tr>\n",
       "      <th>248</th>\n",
       "      <td>Zimbabwe</td>\n",
       "      <td>ZW</td>\n",
       "    </tr>\n",
       "  </tbody>\n",
       "</table>\n",
       "<p>249 rows × 2 columns</p>\n",
       "</div>"
      ],
      "text/plain": [
       "                  Name Code\n",
       "0          Afghanistan   AF\n",
       "1       Ã…land Islands   AX\n",
       "2              Albania   AL\n",
       "3              Algeria   DZ\n",
       "4       American Samoa   AS\n",
       "..                 ...  ...\n",
       "244  Wallis and Futuna   WF\n",
       "245     Western Sahara   EH\n",
       "246              Yemen   YE\n",
       "247             Zambia   ZM\n",
       "248           Zimbabwe   ZW\n",
       "\n",
       "[249 rows x 2 columns]"
      ]
     },
     "execution_count": 26,
     "metadata": {},
     "output_type": "execute_result"
    }
   ],
   "source": [
    "df"
   ]
  },
  {
   "cell_type": "code",
   "execution_count": 27,
   "id": "cdc85088-7209-448b-b38c-ef8195fedf77",
   "metadata": {},
   "outputs": [],
   "source": [
    "df2 = pd.read_csv(\"top_players_stats.csv\")"
   ]
  },
  {
   "cell_type": "code",
   "execution_count": 28,
   "id": "7c698d07-8742-4827-84f4-bd072b4204d7",
   "metadata": {},
   "outputs": [],
   "source": [
    "df2['code'] = 0"
   ]
  },
  {
   "cell_type": "code",
   "execution_count": 29,
   "id": "addad4d3-77f9-407f-ac74-df6593a9bb53",
   "metadata": {},
   "outputs": [
    {
     "name": "stderr",
     "output_type": "stream",
     "text": [
      "C:\\Users\\Galbadral\\AppData\\Local\\Temp\\ipykernel_6616\\4270535798.py:4: SettingWithCopyWarning: \n",
      "A value is trying to be set on a copy of a slice from a DataFrame\n",
      "\n",
      "See the caveats in the documentation: https://pandas.pydata.org/pandas-docs/stable/user_guide/indexing.html#returning-a-view-versus-a-copy\n",
      "  df2['code'][i]= df['Code'][x]\n"
     ]
    }
   ],
   "source": [
    "for i in range(len(df2)):\n",
    "    for x in range(len(df)):\n",
    "        if df2['countries'][i]==df['Name'][x]:\n",
    "            df2['code'][i]= df['Code'][x]\n",
    "        elif df2['countries'][i]=='England':\n",
    "            df2['code'][i]= 'GB'"
   ]
  },
  {
   "cell_type": "code",
   "execution_count": 30,
   "id": "b1e892d8-dada-43d7-af0c-daf5f98cdfb8",
   "metadata": {},
   "outputs": [
    {
     "data": {
      "text/plain": [
       "GB    66\n",
       "FR    62\n",
       "BR    44\n",
       "ES    41\n",
       "PT    32\n",
       "IT    26\n",
       "DE    25\n",
       "0     23\n",
       "NL    19\n",
       "AR    18\n",
       "BE    14\n",
       "HR     9\n",
       "AT     8\n",
       "CH     8\n",
       "NG     8\n",
       "DK     7\n",
       "UY     7\n",
       "RS     6\n",
       "US     5\n",
       "CO     5\n",
       "SN     5\n",
       "TR     5\n",
       "DZ     4\n",
       "GH     4\n",
       "MA     3\n",
       "UA     3\n",
       "ML     3\n",
       "SE     3\n",
       "PL     3\n",
       "EC     3\n",
       "JP     2\n",
       "MX     2\n",
       "NO     2\n",
       "CM     2\n",
       "SI     2\n",
       "CZ     2\n",
       "SK     2\n",
       "GE     2\n",
       "CA     2\n",
       "IE     1\n",
       "IL     1\n",
       "CF     1\n",
       "PY     1\n",
       "GN     1\n",
       "ZM     1\n",
       "EG     1\n",
       "MZ     1\n",
       "JM     1\n",
       "HU     1\n",
       "BF     1\n",
       "AL     1\n",
       "GR     1\n",
       "Name: code, dtype: int64"
      ]
     },
     "execution_count": 30,
     "metadata": {},
     "output_type": "execute_result"
    }
   ],
   "source": [
    "df2['code'].value_counts()"
   ]
  },
  {
   "cell_type": "code",
   "execution_count": 31,
   "id": "1e4c7463-2659-4788-89ff-57af4495cdea",
   "metadata": {},
   "outputs": [],
   "source": [
    "df2.to_csv('top_players_stats_country_code.csv', index=False)"
   ]
  },
  {
   "cell_type": "code",
   "execution_count": null,
   "id": "d72fbf7a-1f16-4020-9648-8ac440261dfb",
   "metadata": {},
   "outputs": [],
   "source": []
  }
 ],
 "metadata": {
  "kernelspec": {
   "display_name": "Python 3 (ipykernel)",
   "language": "python",
   "name": "python3"
  },
  "language_info": {
   "codemirror_mode": {
    "name": "ipython",
    "version": 3
   },
   "file_extension": ".py",
   "mimetype": "text/x-python",
   "name": "python",
   "nbconvert_exporter": "python",
   "pygments_lexer": "ipython3",
   "version": "3.8.13"
  }
 },
 "nbformat": 4,
 "nbformat_minor": 5
}
