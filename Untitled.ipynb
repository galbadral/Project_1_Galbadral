{
 "cells": [
  {
   "cell_type": "code",
   "execution_count": null,
   "id": "3373f61b-6970-44d1-bb38-aad304565b44",
   "metadata": {},
   "outputs": [],
   "source": [
    "!streamlit run player_price_app.py"
   ]
  },
  {
   "cell_type": "code",
   "execution_count": null,
   "id": "8018e8a4-fdb2-4e39-ab71-c696f718f3f1",
   "metadata": {},
   "outputs": [],
   "source": []
  }
 ],
 "metadata": {
  "kernelspec": {
   "display_name": "Python 3 (ipykernel)",
   "language": "python",
   "name": "python3"
  },
  "language_info": {
   "codemirror_mode": {
    "name": "ipython",
    "version": 3
   },
   "file_extension": ".py",
   "mimetype": "text/x-python",
   "name": "python",
   "nbconvert_exporter": "python",
   "pygments_lexer": "ipython3",
   "version": "3.8.13"
  }
 },
 "nbformat": 4,
 "nbformat_minor": 5
}
